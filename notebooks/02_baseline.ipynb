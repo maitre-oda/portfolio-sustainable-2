{
 "cells": [
  {
   "cell_type": "markdown",
   "metadata": {},
   "source": [
    "# 02 - Portefeuille de référence\n",
    "Nous construisons un portefeuille équipondéré et calculons les métriques de base, y compris l'intensité carbone."
   ]
  },
  {
   "cell_type": "code",
   "execution_count": null,
   "metadata": {},
   "outputs": [],
   "source": [
    "import pathlib\n",
    "\n",
    "import pandas as pd\n",
    "\n",
    "from src.metrics import (\n",
    "    annualized_return,\n",
    "    annualized_volatility,\n",
    "    conditional_value_at_risk,\n",
    "    max_drawdown,\n",
    ")\n",
    "\n",
    "PROCESSED_DIR = pathlib.Path('..') / 'data' / 'processed'\n",
    "returns = pd.read_csv(PROCESSED_DIR / 'returns.csv', index_col=0, parse_dates=True)\n",
    "carbon_intensity = pd.read_csv(PROCESSED_DIR / 'carbon_intensity.csv', index_col=0).iloc[:, 0]\n",
    "\n",
    "equal_weights = pd.Series(1 / len(returns.columns), index=returns.columns)\n",
    "portfolio_returns = returns @ equal_weights\n",
    "\n",
    "metrics = {\n",
    "    'Rendement annualisé': annualized_return(portfolio_returns),\n",
    "    'Volatilité annualisée': annualized_volatility(portfolio_returns),\n",
    "    'CVaR 95%': conditional_value_at_risk(portfolio_returns, alpha=0.95),\n",
    "    'Drawdown maximal': max_drawdown(portfolio_returns)[0],\n",
    "    'Intensité carbone': float(carbon_intensity @ equal_weights),\n",
    "}\n",
    "\n",
    "pd.Series(metrics)\n"
   ]
  }
 ],
 "metadata": {
  "kernelspec": {
   "display_name": "Python 3",
   "language": "python",
   "name": "python3"
  },
  "language_info": {
   "name": "python",
   "version": "3.11"
  }
 },
 "nbformat": 4,
 "nbformat_minor": 5
}
