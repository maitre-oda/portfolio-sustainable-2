{
 "cells": [
  {
   "cell_type": "markdown",
   "metadata": {},
   "source": [
    "# 03 - Optimisation durable\n",
    "Nous testons plusieurs scénarios d'optimisation avec contraintes et traçons une frontière rendement contre carbone."
   ]
  },
  {
   "cell_type": "code",
   "execution_count": null,
   "metadata": {},
   "outputs": [],
   "source": [
    "import pathlib\n",
    "\n",
    "import matplotlib.pyplot as plt\n",
    "import pandas as pd\n",
    "\n",
    "from src.metrics import annualized_return\n",
    "from src.optimization import optimize_portfolio\n",
    "\n",
    "PROCESSED_DIR = pathlib.Path('..') / 'data' / 'processed'\n",
    "returns = pd.read_csv(PROCESSED_DIR / 'returns.csv', index_col=0, parse_dates=True)\n",
    "carbon_intensity = pd.read_csv(PROCESSED_DIR / 'carbon_intensity.csv', index_col=0).iloc[:, 0]\n",
    "\n",
    "scenarios = []\n",
    "carbon_grid = [80, 100, 120, 150, 200]\n",
    "for max_carbon in carbon_grid:\n",
    "    weights = optimize_portfolio(\n",
    "        returns=returns,\n",
    "        carbon_intensity=carbon_intensity,\n",
    "        max_carbon=max_carbon,\n",
    "    )\n",
    "    port_returns = returns @ weights\n",
    "    scenarios.append({\n",
    "        'max_carbon': max_carbon,\n",
    "        'annual_return': annualized_return(port_returns),\n",
    "        'carbon_actual': float(carbon_intensity @ weights),\n",
    "    })\n",
    "\n",
    "frontier = pd.DataFrame(scenarios)\n",
    "frontier.sort_values('carbon_actual', inplace=True)\n",
    "\n",
    "fig, ax = plt.subplots(figsize=(8, 5))\n",
    "ax.plot(frontier['carbon_actual'], frontier['annual_return'], marker='o')\n",
    "ax.set_xlabel('Intensité carbone effective')\n",
    "ax.set_ylabel('Rendement annualisé')\n",
    "ax.set_title('Frontière rendement vs carbone')\n",
    "fig.tight_layout()\n",
    "fig\n"
   ]
  }
 ],
 "metadata": {
  "kernelspec": {
   "display_name": "Python 3",
   "language": "python",
   "name": "python3"
  },
  "language_info": {
   "name": "python",
   "version": "3.11"
  }
 },
 "nbformat": 4,
 "nbformat_minor": 5
}
