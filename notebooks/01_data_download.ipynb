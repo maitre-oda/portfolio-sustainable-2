{
 "cells": [
  {
   "cell_type": "markdown",
   "metadata": {},
   "source": [
    "# 01 - Téléchargement des données\n",
    "Ce notebook télécharge les prix via `yfinance`, calcule les rendements et prépare les données nécessaires pour l'analyse durable."
   ]
  },
  {
   "cell_type": "code",
   "execution_count": null,
   "metadata": {},
   "outputs": [],
   "source": [
    "import pathlib\n",
    "import pandas as pd\n",
    "import yfinance as yf\n",
    "\n",
    "DATA_DIR = pathlib.Path('..') / 'data'\n",
    "PROCESSED_DIR = DATA_DIR / 'processed'\n",
    "PROCESSED_DIR.mkdir(parents=True, exist_ok=True)\n",
    "\n",
    "tickers = ['AAPL', 'MSFT', 'TSLA', 'OR']\n",
    "start_date = '2018-01-01'\n",
    "end_date = '2023-12-31'\n",
    "\n",
    "prices = yf.download(tickers, start=start_date, end=end_date)['Adj Close']\n",
    "returns = prices.pct_change().dropna()\n",
    "\n",
    "# Exemple d'intensité carbone issue d'une source externe (à remplacer par des données réelles).\n",
    "carbon_intensity = pd.Series({\n",
    "    'AAPL': 55.0,\n",
    "    'MSFT': 40.0,\n",
    "    'TSLA': 180.0,\n",
    "    'OR': 120.0,\n",
    "})\n",
    "\n",
    "returns.to_csv(PROCESSED_DIR / 'returns.csv')\n",
    "carbon_intensity.to_frame(name='carbon_intensity').to_csv(PROCESSED_DIR / 'carbon_intensity.csv')\n",
    "\n",
    "returns.tail()\n"
   ]
  }
 ],
 "metadata": {
  "kernelspec": {
   "display_name": "Python 3",
   "language": "python",
   "name": "python3"
  },
  "language_info": {
   "name": "python",
   "version": "3.11"
  }
 },
 "nbformat": 4,
 "nbformat_minor": 5
}
